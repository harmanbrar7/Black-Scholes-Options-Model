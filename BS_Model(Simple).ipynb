{
 "cells": [
  {
   "cell_type": "code",
   "execution_count": 1,
   "id": "5866c74a-f04a-4129-b6db-da6e0b6fd965",
   "metadata": {},
   "outputs": [
    {
     "name": "stdout",
     "output_type": "stream",
     "text": [
      "The price of the call option is: 6.04\n"
     ]
    }
   ],
   "source": [
    "import numpy as np\n",
    "import scipy.stats as si\n",
    "\n",
    "\n",
    "def black_scholes(S, K, T, r, sigma, option_type):\n",
    "    d1 = (np.log(S/K) + (r + sigma**2/2)*T) / (sigma*np.sqrt(T))\n",
    "    d2 = d1 - sigma*np.sqrt(T)\n",
    "    \n",
    "    if option_type == \"call\":\n",
    "        price = S*si.norm.cdf(d1) - K*np.exp(-r*T)*si.norm.cdf(d2)\n",
    "    elif option_type == \"put\":\n",
    "        price = K*np.exp(-r*T)*si.norm.cdf(-d2) - S*si.norm.cdf(-d1)\n",
    "    \n",
    "    return price\n",
    "\n",
    "\n",
    "\n",
    "S = 100  # stock price\n",
    "K = 110  # strike price\n",
    "T = 1    # time to maturity (in years)\n",
    "r = 0.05 # risk-free interest rate\n",
    "sigma = 0.2 # volatility\n",
    "option_type = \"call\" # option type: \"call\" or \"put\"\n",
    "\n",
    "\n",
    "\n",
    "price = black_scholes(S, K, T, r, sigma, option_type)\n",
    "print(f\"The price of the {option_type} option is: {price:.2f}\")\n"
   ]
  },
  {
   "cell_type": "code",
   "execution_count": null,
   "id": "4974af86-49c5-4e96-960e-8db5ca26b4d3",
   "metadata": {},
   "outputs": [],
   "source": []
  }
 ],
 "metadata": {
  "kernelspec": {
   "display_name": "Python 3 (ipykernel)",
   "language": "python",
   "name": "python3"
  },
  "language_info": {
   "codemirror_mode": {
    "name": "ipython",
    "version": 3
   },
   "file_extension": ".py",
   "mimetype": "text/x-python",
   "name": "python",
   "nbconvert_exporter": "python",
   "pygments_lexer": "ipython3",
   "version": "3.10.8"
  }
 },
 "nbformat": 4,
 "nbformat_minor": 5
}
